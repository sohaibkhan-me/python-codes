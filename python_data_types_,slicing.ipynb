{
 "cells": [
  {
   "cell_type": "code",
   "execution_count": 14,
   "metadata": {
    "colab": {
     "base_uri": "https://localhost:8080/"
    },
    "id": "p1n5o2kmd90U",
    "outputId": "bc6373b0-b439-4f47-c3a8-28f7f51a4ef8"
   },
   "outputs": [
    {
     "name": "stdout",
     "output_type": "stream",
     "text": [
      "hello world sohaib \n",
      "5\n",
      "9\n"
     ]
    }
   ],
   "source": [
    "print(\"hello world sohaib \")\n",
    "\n",
    "# VARIABLES\n",
    "\n",
    "x = 5\n",
    "\n",
    "print(x)\n",
    "\n",
    "y = 9\n",
    "\n",
    "print(y)\n"
   ]
  },
  {
   "cell_type": "code",
   "execution_count": 36,
   "metadata": {
    "colab": {
     "base_uri": "https://localhost:8080/"
    },
    "id": "0j17ROzgeINE",
    "outputId": "7ca1a7c7-bc7c-41c1-999e-7a2f58269199"
   },
   "outputs": [
    {
     "name": "stdout",
     "output_type": "stream",
     "text": [
      "int data type number is equal to  100\n",
      "float data type number is equal to  100.1\n",
      "string data type 'person Name' is  sohaib\n",
      "boolean answer if person is a student  True\n",
      "boolean answer if person is not a student  False\n"
     ]
    }
   ],
   "source": [
    "# DATA TYPES\n",
    "\n",
    "# INT\n",
    "\n",
    "number = 100\n",
    "\n",
    "print(\"int data type number is equal to \",number)\n",
    "\n",
    "# float\n",
    "\n",
    "number = 100.1\n",
    "\n",
    "print(\"float data type number is equal to \",number)\n",
    "\n",
    "# string\n",
    "\n",
    "Name = \"sohaib\"\n",
    "\n",
    "print(\"string data type 'person Name' is \",Name)\n",
    "\n",
    "# boolean (true or false )\n",
    "\n",
    "is_student = True\n",
    "\n",
    "print(\"boolean answer if person is a student \",is_student)\n",
    "\n",
    "is_student = False\n",
    "\n",
    "print(\"boolean answer if person is not a student \",is_student)"
   ]
  },
  {
   "cell_type": "code",
   "execution_count": 40,
   "metadata": {
    "colab": {
     "base_uri": "https://localhost:8080/"
    },
    "id": "mKwbn6cdeT8o",
    "outputId": "f3362b1d-3757-46cc-bd1b-9e01f0dcd5a9"
   },
   "outputs": [
    {
     "name": "stdout",
     "output_type": "stream",
     "text": [
      "[12.3, 'sohaib', 100, True]\n",
      "12.3\n",
      "34.8\n",
      "4\n",
      "[34.8, 'sohaib', 100, True, 'qadir']\n",
      "[8, 34.8, 'sohaib', 100, True, 'qadir']\n",
      "[8, 34.8, 'sohaib', True, 'qadir']\n",
      "qadir\n",
      "[8, 34.8, 'sohaib', True]\n",
      "++++++++++++++++++++++++++++++++++++++++++++++++++++++++++++++++++++++++++++++++++++\n",
      "++++++++++++++++++++++++++++++++++++++++++++++++++++++++++++++++++++++++++++++++++++\n",
      "[12, 1, 4, 5, 6, 2]\n",
      "[1, 2, 4, 5, 6, 12]\n",
      "[12, 6, 5, 4, 2, 1]\n"
     ]
    }
   ],
   "source": [
    " # list (mutable)\n",
    "\n",
    "list = [12.3,\"sohaib\",100,True]\n",
    "\n",
    "print(list)\n",
    "\n",
    "print(list[0])\n",
    "\n",
    "list[0] = 34.8\n",
    "\n",
    "print(list[0])\n",
    "\n",
    "# list functions\n",
    "\n",
    "print(len(list)) # total elements in the list\n",
    "\n",
    "list.append(\"qadir\") # append at the end\n",
    "\n",
    "print(list)\n",
    "\n",
    "list.insert(0,8) # insert at position\n",
    "\n",
    "print(list)\n",
    "\n",
    "list.remove(100) # delete by value\n",
    "\n",
    "print(list)\n",
    "\n",
    "print(list.pop()) # pop last element\n",
    "\n",
    "print(list)\n",
    "\n",
    "print(\"++++++++++++++++++++++++++++++++++++++++++++++++++++++++++++++++++++++++++++++++++++\")\n",
    "print(\"++++++++++++++++++++++++++++++++++++++++++++++++++++++++++++++++++++++++++++++++++++\")\n",
    "\n",
    "numbers = [12,1,4,5,6,2]\n",
    "\n",
    "print(numbers)\n",
    "\n",
    "numbers.sort() # sort all elements which are present in the list\n",
    "\n",
    "print(numbers)\n",
    "\n",
    "numbers.reverse() # reverse all elements which are present in the list\n",
    "\n",
    "print(numbers)\n"
   ]
  },
  {
   "cell_type": "code",
   "execution_count": 42,
   "metadata": {
    "colab": {
     "base_uri": "https://localhost:8080/"
    },
    "id": "QYCNt8jwmSqn",
    "outputId": "0d8e132c-80d4-486e-99bc-0a2d0f20c8e4"
   },
   "outputs": [
    {
     "name": "stdout",
     "output_type": "stream",
     "text": [
      "('sohaib', 67, 89.9)\n",
      "3\n"
     ]
    }
   ],
   "source": [
    "# tuple ( immutabe )\n",
    "\n",
    "tuple = (\"sohaib\",67,89.90)\n",
    "\n",
    "print(tuple)\n",
    "\n",
    "# error (tuple[0] = 67)\n",
    "\n",
    "print(len(tuple))\n",
    "\n",
    "# error tuple.remove(\"sohaib\")"
   ]
  },
  {
   "cell_type": "code",
   "execution_count": 70,
   "metadata": {
    "colab": {
     "base_uri": "https://localhost:8080/"
    },
    "id": "drLBFU0GmaIj",
    "outputId": "95977593-24bf-439e-dc8e-57f7c966cfd5"
   },
   "outputs": [
    {
     "name": "stdout",
     "output_type": "stream",
     "text": [
      "{'Name ': 'sohaib', 'Age': 22, 'address': 'pakha ghulam peshawar '}\n",
      "++++++++++++++++++++++++++++++++++++++++++++++++++++++++++++++++++++++++++++++++++++\n",
      "sohaib\n",
      "++++++++++++++++++++++++++++++++++++++++++++++++++++++++++++++++++++++++++++++++++++\n",
      "sohaib\n",
      "++++++++++++++++++++++++++++++++++++++++++++++++++++++++++++++++++++++++++++++++++++\n",
      "dict_keys(['Name ', 'Age', 'address'])\n",
      "++++++++++++++++++++++++++++++++++++++++++++++++++++++++++++++++++++++++++++++++++++\n",
      "dict_values(['sohaib', 22, 'pakha ghulam peshawar '])\n",
      "++++++++++++++++++++++++++++++++++++++++++++++++++++++++++++++++++++++++++++++++++++\n",
      "dict_items([('Name ', 'sohaib'), ('Age', 22), ('address', 'pakha ghulam peshawar ')])\n",
      "++++++++++++++++++++++++++++++++++++++++++++++++++++++++++++++++++++++++++++++++++++\n",
      "{'Name ': 'qadir', 'Age': 22, 'address': 'pakha ghulam peshawar '}\n",
      "{'Name ': 'qadir', 'address': 'pakha ghulam peshawar '}\n"
     ]
    }
   ],
   "source": [
    "# dictionary ( store value in key and its value )\n",
    "\n",
    "dictionary = {\n",
    "\n",
    "    \"Name \" : \"sohaib\",\n",
    "     \"Age\" : 22,\n",
    "     \"address\" : \"pakha ghulam peshawar \"\n",
    "}\n",
    "\n",
    "print(dictionary)\n",
    "\n",
    "print(\"++++++++++++++++++++++++++++++++++++++++++++++++++++++++++++++++++++++++++++++++++++\")\n",
    "\n",
    "print(dictionary[\"Name \"]) # print value which is present in the key\n",
    "\n",
    "print(\"++++++++++++++++++++++++++++++++++++++++++++++++++++++++++++++++++++++++++++++++++++\")\n",
    "\n",
    "print(dictionary.get(\"Name \")) # print value which is present in the key\n",
    "\n",
    "print(\"++++++++++++++++++++++++++++++++++++++++++++++++++++++++++++++++++++++++++++++++++++\")\n",
    "\n",
    "print(dictionary.keys()) # return all keys only\n",
    "\n",
    "print(\"++++++++++++++++++++++++++++++++++++++++++++++++++++++++++++++++++++++++++++++++++++\")\n",
    "\n",
    "print(dictionary.values()) # return only values which are present in the keys\n",
    "\n",
    "print(\"++++++++++++++++++++++++++++++++++++++++++++++++++++++++++++++++++++++++++++++++++++\")\n",
    "\n",
    "print(dictionary.items()) # return key ,value\n",
    "\n",
    "print(\"++++++++++++++++++++++++++++++++++++++++++++++++++++++++++++++++++++++++++++++++++++\")\n",
    "\n",
    "dictionary.update({\"Name \" : \"qadir\"})\n",
    "\n",
    "print(dictionary)\n",
    "\n",
    "dictionary.pop(\"Age\")\n",
    "\n",
    "print(dictionary)\n",
    "\n"
   ]
  },
  {
   "cell_type": "code",
   "execution_count": 94,
   "metadata": {
    "colab": {
     "base_uri": "https://localhost:8080/"
    },
    "id": "TSlAfApeswuz",
    "outputId": "401c4067-e1ef-4690-d9c3-b9ac60f32421"
   },
   "outputs": [
    {
     "name": "stdout",
     "output_type": "stream",
     "text": [
      "{1, 2, 3, 4, 5}\n",
      "{2, 3, 4, 5}\n",
      "++++++++++++++++++++++++++++++++++++++++++++++++++++++++++++++++++++++++++++++++++++\n",
      "{3, 4, 5}\n",
      "++++++++++++++++++++++++++++++++++++++++++++++++++++++++++++++++++++++++++++++++++++\n",
      "{3, 4, 5, 9}\n",
      "++++++++++++++++++++++++++++++++++++++++++++++++++++++++++++++++++++++++++++++++++++\n",
      "{3, 4, 5}\n",
      "++++++++++++++++++++++++++++++++++++++++++++++++++++++++++++++++++++++++++++++++++++\n",
      "{34, 2, 6, 343, 24, 89, 895}\n",
      "++++++++++++++++++++++++++++++++++++++++++++++++++++++++++++++++++++++++++++++++++++\n",
      "{6}\n",
      "++++++++++++++++++++++++++++++++++++++++++++++++++++++++++++++++++++++++++++++++++++\n",
      "{89, 34, 2}\n"
     ]
    }
   ],
   "source": [
    "# set (unique numbers)\n",
    "\n",
    "set = {1,2,3,4,5}\n",
    "\n",
    "print(set)\n",
    "\n",
    "set.pop()\n",
    "\n",
    "print(set)\n",
    "\n",
    "set.pop()\n",
    "\n",
    "print(\"++++++++++++++++++++++++++++++++++++++++++++++++++++++++++++++++++++++++++++++++++++\")\n",
    "\n",
    "print(set)\n",
    "\n",
    "print(\"++++++++++++++++++++++++++++++++++++++++++++++++++++++++++++++++++++++++++++++++++++\")\n",
    "\n",
    "set.add(9)\n",
    "\n",
    "print(set)\n",
    "\n",
    "print(\"++++++++++++++++++++++++++++++++++++++++++++++++++++++++++++++++++++++++++++++++++++\")\n",
    "\n",
    "set.remove(9)\n",
    "\n",
    "print(set)\n",
    "\n",
    "print(\"++++++++++++++++++++++++++++++++++++++++++++++++++++++++++++++++++++++++++++++++++++\")\n",
    "\n",
    "set1 = {34,2,6,89}\n",
    "set2 = {343,24,6,895}\n",
    "\n",
    "print(set1.union(set2))\n",
    "\n",
    "\n",
    "print(\"++++++++++++++++++++++++++++++++++++++++++++++++++++++++++++++++++++++++++++++++++++\")\n",
    "\n",
    "\n",
    "print(set1.intersection(set2))\n",
    "\n",
    "\n",
    "print(\"++++++++++++++++++++++++++++++++++++++++++++++++++++++++++++++++++++++++++++++++++++\")\n",
    "\n",
    "print(set1.difference(set2))\n"
   ]
  },
  {
   "cell_type": "code",
   "execution_count": 102,
   "metadata": {
    "colab": {
     "base_uri": "https://localhost:8080/"
    },
    "id": "7wPTvjovwzep",
    "outputId": "2431a9c3-d53f-4ad2-b1cd-041d0132b67c"
   },
   "outputs": [
    {
     "name": "stdout",
     "output_type": "stream",
     "text": [
      "[1, 3, 4, 5]\n",
      "[1, 3, 4, 5, 6]\n",
      "[1, 3, 4, 5, 6]\n"
     ]
    }
   ],
   "source": [
    "# slicing\n",
    "\n",
    "list = [1,3,4,5,6]\n",
    "\n",
    "print(list[0:4])\n",
    "\n",
    "print(list[0:])\n",
    "\n",
    "print(list[:])\n"
   ]
  }
 ],
 "metadata": {
  "colab": {
   "provenance": []
  },
  "kernelspec": {
   "display_name": "Python 3 (ipykernel)",
   "language": "python",
   "name": "python3"
  },
  "language_info": {
   "codemirror_mode": {
    "name": "ipython",
    "version": 3
   },
   "file_extension": ".py",
   "mimetype": "text/x-python",
   "name": "python",
   "nbconvert_exporter": "python",
   "pygments_lexer": "ipython3",
   "version": "3.10.12"
  }
 },
 "nbformat": 4,
 "nbformat_minor": 4
}
