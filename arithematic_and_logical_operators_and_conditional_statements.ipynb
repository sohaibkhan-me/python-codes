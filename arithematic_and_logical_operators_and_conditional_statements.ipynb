{
  "nbformat": 4,
  "nbformat_minor": 0,
  "metadata": {
    "colab": {
      "provenance": []
    },
    "kernelspec": {
      "name": "python3",
      "display_name": "Python 3"
    },
    "language_info": {
      "name": "python"
    }
  },
  "cells": [
    {
      "cell_type": "code",
      "source": [
        "print(\"sohaib\")"
      ],
      "metadata": {
        "colab": {
          "base_uri": "https://localhost:8080/"
        },
        "id": "3O6lMbbUyghO",
        "outputId": "10607e59-d9af-4805-85e8-53d5986fef0c"
      },
      "execution_count": 1,
      "outputs": [
        {
          "output_type": "stream",
          "name": "stdout",
          "text": [
            "sohaib\n"
          ]
        }
      ]
    },
    {
      "cell_type": "code",
      "execution_count": 4,
      "metadata": {
        "colab": {
          "base_uri": "https://localhost:8080/"
        },
        "id": "mxXE3UIIyePW",
        "outputId": "132173a2-09f5-47e6-a16d-7853a7178387"
      },
      "outputs": [
        {
          "output_type": "stream",
          "name": "stdout",
          "text": [
            "please enter your name sohaib\n",
            "sohaib\n"
          ]
        }
      ],
      "source": [
        "Name = input(\"please enter your name \")\n",
        "\n",
        "print(Name)"
      ]
    },
    {
      "cell_type": "code",
      "source": [],
      "metadata": {
        "id": "OvA8F_DT1qwt"
      },
      "execution_count": null,
      "outputs": []
    },
    {
      "cell_type": "code",
      "source": [
        "# arithematic operator\n",
        "\n",
        "number1 = 3\n",
        "number2 = 2\n",
        "\n",
        "print(number1 + number2)\n",
        "\n",
        "print(number1 - number2)\n",
        "\n",
        "print(number1 * number2)\n",
        "\n",
        "print(number1 / number2)\n",
        "\n",
        "print(number1 % number2)\n",
        "\n",
        "print(number1 ** number2)\n",
        "\n",
        "\n",
        "\n"
      ],
      "metadata": {
        "colab": {
          "base_uri": "https://localhost:8080/"
        },
        "id": "wfXWt9791ZwO",
        "outputId": "09264536-18b0-4f62-a64a-64a38655a456"
      },
      "execution_count": 7,
      "outputs": [
        {
          "output_type": "stream",
          "name": "stdout",
          "text": [
            "5\n",
            "1\n",
            "6\n",
            "1.5\n",
            "1\n",
            "9\n"
          ]
        }
      ]
    },
    {
      "cell_type": "code",
      "source": [
        "# logical operator\n",
        "\n",
        "number1 = 3\n",
        "number2 = 2\n",
        "\n",
        "print(number1 == number2)\n",
        "\n",
        "print(number1 > number2)\n",
        "\n",
        "print(number1 >= number2)\n",
        "\n",
        "print(number1 < number2)\n",
        "\n",
        "print(number1 <= number2)\n",
        "\n",
        "print(number1 != number2)\n",
        "\n",
        "print ( number1 > number2 and number1 > 2 )\n",
        "\n",
        "print ( number1 > number2 or number1 > 10 )\n",
        "\n",
        "print(not number1)"
      ],
      "metadata": {
        "colab": {
          "base_uri": "https://localhost:8080/"
        },
        "id": "FkiVtAqr2GJZ",
        "outputId": "6f60da74-28d0-472e-9ac3-72046679ca3f"
      },
      "execution_count": 14,
      "outputs": [
        {
          "output_type": "stream",
          "name": "stdout",
          "text": [
            "False\n",
            "True\n",
            "True\n",
            "False\n",
            "False\n",
            "True\n",
            "True\n",
            "True\n",
            "False\n"
          ]
        }
      ]
    },
    {
      "cell_type": "code",
      "source": [
        "# conditional statement\n",
        "\n",
        "age = int(input (\"please input your age \"))\n",
        "\n",
        "if age >= 18:\n",
        "  print(\"you are eligibe for the vote\")\n",
        "\n"
      ],
      "metadata": {
        "colab": {
          "base_uri": "https://localhost:8080/"
        },
        "id": "h043-VWi3XoT",
        "outputId": "32dc5bbb-f586-477d-cd30-6bd3db217d3a"
      },
      "execution_count": 16,
      "outputs": [
        {
          "output_type": "stream",
          "name": "stdout",
          "text": [
            "please input your age 19\n",
            "you are eligibe for the vote\n"
          ]
        }
      ]
    },
    {
      "cell_type": "code",
      "source": [
        "# if else\n",
        "\n",
        "age = int(input (\"please input your age \"))\n",
        "\n",
        "if age >= 18:\n",
        "  print(\"you are eligibe for the vote\")\n",
        "\n",
        "else:\n",
        "  print(\"not eligible for the vote your age is less than 18 \")\n",
        "\n",
        "\n"
      ],
      "metadata": {
        "colab": {
          "base_uri": "https://localhost:8080/"
        },
        "id": "Dfn9wxBy34oW",
        "outputId": "b1bc5054-288e-4652-95ca-8ca88a380971"
      },
      "execution_count": 18,
      "outputs": [
        {
          "output_type": "stream",
          "name": "stdout",
          "text": [
            "please input your age 18\n",
            "you are eligibe for the vote\n"
          ]
        }
      ]
    },
    {
      "cell_type": "code",
      "source": [
        "age = int(input(\"Please input your age: \"))\n",
        "\n",
        "if age >= 18 and age <= 100:\n",
        "    print(\"You are eligible to vote\")\n",
        "elif age > 100:\n",
        "    print(\"Invalid age, please check again\")\n",
        "else:\n",
        "    print(\"Not eligible for the vote, your age is less than 18\")\n",
        "\n"
      ],
      "metadata": {
        "colab": {
          "base_uri": "https://localhost:8080/"
        },
        "id": "TPbreHP54Qkj",
        "outputId": "b479416d-b39b-453c-de69-c561a68cce92"
      },
      "execution_count": 23,
      "outputs": [
        {
          "output_type": "stream",
          "name": "stdout",
          "text": [
            "Please input your age: 5\n",
            "Not eligible for the vote, your age is less than 18\n"
          ]
        }
      ]
    }
  ]
}