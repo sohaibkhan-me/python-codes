{
  "nbformat": 4,
  "nbformat_minor": 0,
  "metadata": {
    "colab": {
      "provenance": []
    },
    "kernelspec": {
      "name": "python3",
      "display_name": "Python 3"
    },
    "language_info": {
      "name": "python"
    }
  },
  "cells": [
    {
      "cell_type": "code",
      "execution_count": null,
      "metadata": {
        "id": "xsZqKNvF6cTc"
      },
      "outputs": [],
      "source": [
        "# numpy\n",
        "\n",
        "import numpy as np"
      ]
    },
    {
      "cell_type": "code",
      "source": [
        "array = np.array([1,5,6,2,3]) # create 1 d array\n",
        "\n",
        "print(array)\n",
        "\n",
        "array3 = np.array([[1,2,3],[8,7,9]])\n",
        "\n",
        "print(array3)"
      ],
      "metadata": {
        "colab": {
          "base_uri": "https://localhost:8080/"
        },
        "id": "o1yoyfRG6tft",
        "outputId": "fd548faa-183c-4760-a03d-0fc859a22093"
      },
      "execution_count": null,
      "outputs": [
        {
          "output_type": "stream",
          "name": "stdout",
          "text": [
            "[1 5 6 2 3]\n",
            "[[1 2 3]\n",
            " [8 7 9]]\n"
          ]
        }
      ]
    },
    {
      "cell_type": "code",
      "source": [
        "# array creation function\n",
        "\n",
        "zeroes = np.zeros((2,2))\n",
        "\n",
        "print(zeroes)\n",
        "\n",
        "ones = np.ones((3,5))\n",
        "\n",
        "print(\"+++++++++++++++++++++++++++++++++++++++++++++++++++++++++++++++++++++++++++++++++++\")\n",
        "\n",
        "print(ones)\n",
        "\n",
        "arrange = np.arange(0,10,2)\n",
        "\n",
        "print(\"+++++++++++++++++++++++++++++++++++++++++++++++++++++++++++++++++++++++++++++++++++\")\n",
        "\n",
        "print(arrange)\n",
        "\n",
        "linspace = np.linspace(0,10,5)\n",
        "\n",
        "print(\"+++++++++++++++++++++++++++++++++++++++++++++++++++++++++++++++++++++++++++++++++++\")\n",
        "\n",
        "print(linspace)\n",
        "\n",
        "print(\"+++++++++++++++++++++++++++++++++++++++++++++++++++++++++++++++++++++++++++++++++++\")\n",
        "\n",
        "random = np.random.rand(3,4)\n",
        "\n",
        "print(random)"
      ],
      "metadata": {
        "colab": {
          "base_uri": "https://localhost:8080/"
        },
        "id": "z3YVSwGb7nL_",
        "outputId": "c4dc25d0-5b8a-45a6-f533-dcf7898735e0"
      },
      "execution_count": null,
      "outputs": [
        {
          "output_type": "stream",
          "name": "stdout",
          "text": [
            "[[0. 0.]\n",
            " [0. 0.]]\n",
            "+++++++++++++++++++++++++++++++++++++++++++++++++++++++++++++++++++++++++++++++++++\n",
            "[[1. 1. 1. 1. 1.]\n",
            " [1. 1. 1. 1. 1.]\n",
            " [1. 1. 1. 1. 1.]]\n",
            "+++++++++++++++++++++++++++++++++++++++++++++++++++++++++++++++++++++++++++++++++++\n",
            "[0 2 4 6 8]\n",
            "+++++++++++++++++++++++++++++++++++++++++++++++++++++++++++++++++++++++++++++++++++\n",
            "[ 0.   2.5  5.   7.5 10. ]\n",
            "+++++++++++++++++++++++++++++++++++++++++++++++++++++++++++++++++++++++++++++++++++\n",
            "[[0.60054996 0.44591263 0.22897648 0.16849733]\n",
            " [0.98959552 0.35754676 0.01631191 0.4578524 ]\n",
            " [0.03061275 0.53326684 0.35434156 0.08429751]]\n"
          ]
        }
      ]
    },
    {
      "cell_type": "code",
      "source": [
        "# array attribututes\n",
        "\n",
        "array = np.array([[1,3,7],[7,9,5],[6,4,2]])\n",
        "\n",
        "print(array)\n",
        "\n",
        "print(array.shape)\n",
        "\n",
        "print(array.size)\n",
        "\n",
        "print(array.ndim)"
      ],
      "metadata": {
        "colab": {
          "base_uri": "https://localhost:8080/"
        },
        "id": "EsFo0nt09qua",
        "outputId": "3946b287-dc48-44b8-9e24-2cb9dd7d7699"
      },
      "execution_count": null,
      "outputs": [
        {
          "output_type": "stream",
          "name": "stdout",
          "text": [
            "[[1 3 7]\n",
            " [7 9 5]\n",
            " [6 4 2]]\n",
            "(3, 3)\n",
            "9\n",
            "2\n"
          ]
        }
      ]
    },
    {
      "cell_type": "code",
      "source": [
        "# array indexing and slicing\n",
        "\n",
        "array = np.array([1,3,4,5,2])\n",
        "\n",
        "print(array[2:4])\n",
        "\n",
        "print(array[:])\n",
        "\n"
      ],
      "metadata": {
        "colab": {
          "base_uri": "https://localhost:8080/"
        },
        "id": "RE7TKG8M-Tv3",
        "outputId": "161dc937-3609-4094-9aec-1e935ecb3b8a"
      },
      "execution_count": null,
      "outputs": [
        {
          "output_type": "stream",
          "name": "stdout",
          "text": [
            "[4 5]\n",
            "[1 3 4 5 2]\n"
          ]
        }
      ]
    },
    {
      "cell_type": "code",
      "source": [
        "# array operation\n",
        "\n",
        "array1 = np.array([1,3,4,5,2])\n",
        "array2 = np.array([1,3,4,5,2])\n",
        "\n",
        "print(array1 + array2)\n",
        "print(array1 - array2)\n",
        "print(array1 * array2)\n",
        "print(array1 / array2)\n",
        "print(array1 % array2)\n",
        "print(array1 ** array2)\n",
        "\n",
        "print(np.sum(array1))\n",
        "print(np.min(array1))\n",
        "print(np.max(array1))\n",
        "print(np.mean(array1))"
      ],
      "metadata": {
        "colab": {
          "base_uri": "https://localhost:8080/"
        },
        "id": "5JfcEclp-pmf",
        "outputId": "fe74b4fc-5bce-4d57-cc75-707b41fe8318"
      },
      "execution_count": null,
      "outputs": [
        {
          "output_type": "stream",
          "name": "stdout",
          "text": [
            "[ 2  6  8 10  4]\n",
            "[0 0 0 0 0]\n",
            "[ 1  9 16 25  4]\n",
            "[1. 1. 1. 1. 1.]\n",
            "[0 0 0 0 0]\n",
            "[   1   27  256 3125    4]\n",
            "15\n",
            "1\n",
            "5\n",
            "3.0\n"
          ]
        }
      ]
    },
    {
      "cell_type": "code",
      "source": [
        "# Matrix Operations\n",
        "\n",
        "A = np.array([[1,2],[3,4]])\n",
        "B = np.array([[5,6],[7,8]])\n",
        "\n",
        "print(A.dot(B))       # Matrix multiplication\n",
        "print(np.transpose(A)) # Transpose"
      ],
      "metadata": {
        "colab": {
          "base_uri": "https://localhost:8080/"
        },
        "id": "BHU5vP_E_ooo",
        "outputId": "bb0250fe-907d-44da-839b-3ad64d5264fc"
      },
      "execution_count": null,
      "outputs": [
        {
          "output_type": "stream",
          "name": "stdout",
          "text": [
            "[[19 22]\n",
            " [43 50]]\n",
            "[[1 3]\n",
            " [2 4]]\n"
          ]
        }
      ]
    },
    {
      "cell_type": "code",
      "source": [
        "# array reshape\n",
        "\n",
        "n = np.linspace(0,10,6)\n",
        "\n",
        "print(n)\n",
        "\n",
        "update = n.reshape(2,3)\n",
        "\n",
        "print(update)\n"
      ],
      "metadata": {
        "colab": {
          "base_uri": "https://localhost:8080/"
        },
        "id": "hbpKeHuj_zh1",
        "outputId": "11ed89c7-75f7-46eb-8439-f95250edfef7"
      },
      "execution_count": null,
      "outputs": [
        {
          "output_type": "stream",
          "name": "stdout",
          "text": [
            "[ 0.  2.  4.  6.  8. 10.]\n",
            "[[ 0.  2.  4.]\n",
            " [ 6.  8. 10.]]\n"
          ]
        }
      ]
    }
  ]
}